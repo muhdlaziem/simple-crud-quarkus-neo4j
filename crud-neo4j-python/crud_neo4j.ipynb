{
 "cells": [
  {
   "cell_type": "markdown",
   "id": "b0d9b697-bcb0-449b-8b91-34d0b978f852",
   "metadata": {},
   "source": [
    "# Install the neo4j-driver"
   ]
  },
  {
   "cell_type": "code",
   "execution_count": 1,
   "id": "b0dd14e4-2657-4f33-83bb-1b2e7d0fcd87",
   "metadata": {},
   "outputs": [
    {
     "name": "stdout",
     "output_type": "stream",
     "text": [
      "Requirement already satisfied: neo4j-driver in /Users/muhdlaziem/Workspace/simple-crud-quarkus-neo4j/env/lib/python3.9/site-packages (4.3.4)\n",
      "Requirement already satisfied: pytz in /Users/muhdlaziem/Workspace/simple-crud-quarkus-neo4j/env/lib/python3.9/site-packages (from neo4j-driver) (2021.1)\n"
     ]
    }
   ],
   "source": [
    "!pip install neo4j-driver"
   ]
  },
  {
   "cell_type": "markdown",
   "id": "dd4dae78-544b-4a51-8e25-48d81c853fb9",
   "metadata": {},
   "source": [
    "## Connect a Database"
   ]
  },
  {
   "cell_type": "code",
   "execution_count": 2,
   "id": "25599244-c89d-458d-86d2-79c8dc478933",
   "metadata": {},
   "outputs": [],
   "source": [
    "from neo4j import GraphDatabase, basic_auth\n",
    "\n",
    "driver = GraphDatabase.driver(\n",
    "  \"bolt://localhost:7687\", \n",
    "  auth=basic_auth(\"neo4j\", \"test\"))\n"
   ]
  },
  {
   "cell_type": "markdown",
   "id": "171430e9-4484-492d-b7f9-11b46e94834f",
   "metadata": {},
   "source": [
    "## Create a new Pokemon with its relantionship"
   ]
  },
  {
   "cell_type": "code",
   "execution_count": 3,
   "id": "ae7a7513-5e61-4802-9b2b-a8fc7f474ba2",
   "metadata": {},
   "outputs": [
    {
     "name": "stdout",
     "output_type": "stream",
     "text": [
      "{'name': 'Bulbasaur', 'region': 'Kanto', 'type': [{'name': 'Grass'}]}\n"
     ]
    }
   ],
   "source": [
    "cypher_query = '''\n",
    "MATCH (r:Origin {name: 'Kanto'})\n",
    "MATCH (t:Type {name: 'Grass'})\n",
    "CREATE (p: Pokemon {name : 'Bulbasaur'})\n",
    "MERGE (p)-[:IS_FROM]->(r)\n",
    "MERGE (p)-[:IS_TYPE]->(t)\n",
    "return p.name as name, r.name as region, collect(t) as type\n",
    "'''\n",
    "\n",
    "with driver.session(database=\"neo4j\") as session:\n",
    "    results = session.write_transaction(lambda tx: tx.run(cypher_query).data())\n",
    "\n",
    "    for record in results:\n",
    "        print(record)\n",
    "\n",
    "driver.close()"
   ]
  },
  {
   "cell_type": "markdown",
   "id": "ce3c148b-d8b5-4a13-8520-48cad9a37b42",
   "metadata": {},
   "source": [
    "## Retrieve All Pokemons and its relantionship"
   ]
  },
  {
   "cell_type": "code",
   "execution_count": 4,
   "id": "b0ee0693-a0f7-4301-8b17-4dc19dace4d9",
   "metadata": {},
   "outputs": [
    {
     "name": "stdout",
     "output_type": "stream",
     "text": [
      "{'name': 'Blastoise', 'region': 'Kanto', 'types': [{'name': 'Water'}]}\n",
      "{'name': 'Blaziken', 'region': 'Hoenn', 'types': [{'name': 'Fighting'}, {'name': 'Fire'}]}\n",
      "{'name': 'Bulbasaur', 'region': 'Kanto', 'types': [{'name': 'Grass'}]}\n",
      "{'name': 'Charizard', 'region': 'Kanto', 'types': [{'name': 'Flying'}, {'name': 'Fire'}]}\n",
      "{'name': 'Chesnaught', 'region': 'Kalos', 'types': [{'name': 'Grass'}, {'name': 'Fighting'}]}\n",
      "{'name': 'Cinderace', 'region': 'Galar', 'types': [{'name': 'Fire'}]}\n",
      "{'name': 'Decidueye', 'region': 'Alola', 'types': [{'name': 'Ghost'}, {'name': 'Water'}]}\n",
      "{'name': 'Delphox', 'region': 'Kalos', 'types': [{'name': 'Fire'}, {'name': 'Psychic'}]}\n",
      "{'name': 'Emboar', 'region': 'Unova', 'types': [{'name': 'Fighting'}, {'name': 'Fire'}]}\n",
      "{'name': 'Empoleon', 'region': 'Sinnoh', 'types': [{'name': 'Steel'}, {'name': 'Water'}]}\n",
      "{'name': 'Feraligatr', 'region': 'Johto', 'types': [{'name': 'Water'}]}\n",
      "{'name': 'Greninja', 'region': 'Kalos', 'types': [{'name': 'Dark'}, {'name': 'Water'}]}\n",
      "{'name': 'Incineroar', 'region': 'Alola', 'types': [{'name': 'Dark'}, {'name': 'Fire'}]}\n",
      "{'name': 'Infernape', 'region': 'Sinnoh', 'types': [{'name': 'Fighting'}, {'name': 'Fire'}]}\n",
      "{'name': 'Inteleon', 'region': 'Galar', 'types': [{'name': 'Water'}]}\n",
      "{'name': 'Meganium', 'region': 'Johto', 'types': [{'name': 'Grass'}]}\n",
      "{'name': 'Primarina', 'region': 'Alola', 'types': [{'name': 'Water'}, {'name': 'Fairy'}]}\n",
      "{'name': 'Rillaboom', 'region': 'Galar', 'types': [{'name': 'Grass'}]}\n",
      "{'name': 'Samurott', 'region': 'Unova', 'types': [{'name': 'Water'}]}\n",
      "{'name': 'Sceptile', 'region': 'Hoenn', 'types': [{'name': 'Grass'}]}\n",
      "{'name': 'Serperior', 'region': 'Unova', 'types': [{'name': 'Grass'}]}\n",
      "{'name': 'Swampert', 'region': 'Hoenn', 'types': [{'name': 'Ground'}, {'name': 'Water'}]}\n",
      "{'name': 'Torterra', 'region': 'Sinnoh', 'types': [{'name': 'Ground'}, {'name': 'Grass'}]}\n",
      "{'name': 'Typhlosion', 'region': 'Johto', 'types': [{'name': 'Fire'}]}\n",
      "{'name': 'Venusaur', 'region': 'Kanto', 'types': [{'name': 'Poison'}, {'name': 'Grass'}]}\n"
     ]
    }
   ],
   "source": [
    "cypher_query = '''\n",
    "MATCH (p)-[:IS_FROM]->(r)\n",
    "MATCH (p)-[:IS_TYPE]->(t)\n",
    "return p.name as name, r.name as region, collect(t) as types\n",
    "ORDER BY p.name\n",
    "'''\n",
    "\n",
    "with driver.session(database=\"neo4j\") as session:\n",
    "  results = session.read_transaction(\n",
    "    lambda tx: tx.run(cypher_query).data())\n",
    "\n",
    "  for record in results:\n",
    "    print(record)\n",
    "\n",
    "driver.close()"
   ]
  },
  {
   "cell_type": "markdown",
   "id": "90da7c8c-8e23-46ac-b334-d6344238f57d",
   "metadata": {},
   "source": [
    "## Retrieve Only Bulbasaur"
   ]
  },
  {
   "cell_type": "code",
   "execution_count": 5,
   "id": "a165c258-9e31-4eec-9f06-96cf11cbf70c",
   "metadata": {},
   "outputs": [
    {
     "name": "stdout",
     "output_type": "stream",
     "text": [
      "{'name': 'Bulbasaur', 'region': 'Kanto', 'types': [{'name': 'Grass'}]}\n"
     ]
    }
   ],
   "source": [
    "cypher_query = '''\n",
    "MATCH (p: Pokemon {name: 'Bulbasaur'})-[:IS_FROM]->(r)\n",
    "MATCH (p)-[:IS_TYPE]->(t)\n",
    "return p.name as name, r.name as region, collect(t) as types\n",
    "'''\n",
    "\n",
    "with driver.session(database=\"neo4j\") as session:\n",
    "  results = session.read_transaction(\n",
    "    lambda tx: tx.run(cypher_query).data())\n",
    "\n",
    "  for record in results:\n",
    "    print(record)\n",
    "\n",
    "driver.close()"
   ]
  },
  {
   "cell_type": "markdown",
   "id": "13a8c114-813c-4d64-b63b-b8fdee13812c",
   "metadata": {},
   "source": [
    "## Update Bulbasaur Region"
   ]
  },
  {
   "cell_type": "code",
   "execution_count": 6,
   "id": "5ef9e9a8-83f2-4f4a-b115-5643b0eba73f",
   "metadata": {},
   "outputs": [
    {
     "name": "stdout",
     "output_type": "stream",
     "text": [
      "{'p.name': 'Bulbasaur', 'region.name': 'Galar'}\n"
     ]
    }
   ],
   "source": [
    "cypher_query = '''\n",
    "MATCH (p: Pokemon {name: 'Bulbasaur'})-[r:IS_FROM]->()\n",
    "DELETE r\n",
    "WITH p\n",
    "MATCH(region: Origin {name: 'Galar'})\n",
    "MERGE (p)-[:IS_FROM]->(region)\n",
    "return p.name, region.name\n",
    "'''\n",
    "\n",
    "with driver.session(database=\"neo4j\") as session:\n",
    "    results = session.write_transaction(lambda tx: tx.run(cypher_query).data())\n",
    "\n",
    "    for record in results:\n",
    "        print(record)\n",
    "\n",
    "driver.close()"
   ]
  },
  {
   "cell_type": "markdown",
   "id": "e0257745-2d36-42ad-91cb-3175e94e3b89",
   "metadata": {},
   "source": [
    "## Delete Bulbasaur"
   ]
  },
  {
   "cell_type": "code",
   "execution_count": 7,
   "id": "c50c433b-f34b-404a-83ca-5c679d54e566",
   "metadata": {},
   "outputs": [],
   "source": [
    "cypher_query = '''\n",
    "MATCH (p: Pokemon {name: 'Bulbasaur'})\n",
    "DETACH\n",
    "DELETE p\n",
    "'''\n",
    "\n",
    "with driver.session(database=\"neo4j\") as session:\n",
    "    results = session.write_transaction(lambda tx: tx.run(cypher_query).data())\n",
    "\n",
    "    for record in results:\n",
    "        print(record)\n",
    "\n",
    "driver.close()"
   ]
  },
  {
   "cell_type": "markdown",
   "id": "035f0937-d9d4-41eb-a7dd-3db0cd55281f",
   "metadata": {},
   "source": [
    "## Pagination"
   ]
  },
  {
   "cell_type": "code",
   "execution_count": 8,
   "id": "e6ea5177-4444-4814-9d4d-d7763214b455",
   "metadata": {},
   "outputs": [
    {
     "name": "stdout",
     "output_type": "stream",
     "text": [
      "Page: 1\n",
      "{'name': 'Venusaur', 'region': 'Kanto', 'types': [{'name': 'Poison'}, {'name': 'Grass'}]}\n",
      "{'name': 'Charizard', 'region': 'Kanto', 'types': [{'name': 'Flying'}, {'name': 'Fire'}]}\n",
      "{'name': 'Blastoise', 'region': 'Kanto', 'types': [{'name': 'Water'}]}\n",
      "{'name': 'Meganium', 'region': 'Johto', 'types': [{'name': 'Grass'}]}\n",
      "{'name': 'Typhlosion', 'region': 'Johto', 'types': [{'name': 'Fire'}]}\n",
      "Page: 2\n",
      "{'name': 'Feraligatr', 'region': 'Johto', 'types': [{'name': 'Water'}]}\n",
      "{'name': 'Sceptile', 'region': 'Hoenn', 'types': [{'name': 'Grass'}]}\n",
      "{'name': 'Blaziken', 'region': 'Hoenn', 'types': [{'name': 'Fighting'}, {'name': 'Fire'}]}\n",
      "{'name': 'Swampert', 'region': 'Hoenn', 'types': [{'name': 'Ground'}, {'name': 'Water'}]}\n",
      "{'name': 'Torterra', 'region': 'Sinnoh', 'types': [{'name': 'Ground'}, {'name': 'Grass'}]}\n",
      "Page: 3\n",
      "{'name': 'Infernape', 'region': 'Sinnoh', 'types': [{'name': 'Fighting'}, {'name': 'Fire'}]}\n",
      "{'name': 'Empoleon', 'region': 'Sinnoh', 'types': [{'name': 'Steel'}, {'name': 'Water'}]}\n",
      "{'name': 'Serperior', 'region': 'Unova', 'types': [{'name': 'Grass'}]}\n",
      "{'name': 'Emboar', 'region': 'Unova', 'types': [{'name': 'Fighting'}, {'name': 'Fire'}]}\n",
      "{'name': 'Samurott', 'region': 'Unova', 'types': [{'name': 'Water'}]}\n",
      "Page: 4\n",
      "{'name': 'Chesnaught', 'region': 'Kalos', 'types': [{'name': 'Grass'}, {'name': 'Fighting'}]}\n",
      "{'name': 'Delphox', 'region': 'Kalos', 'types': [{'name': 'Fire'}, {'name': 'Psychic'}]}\n",
      "{'name': 'Greninja', 'region': 'Kalos', 'types': [{'name': 'Dark'}, {'name': 'Water'}]}\n",
      "{'name': 'Decidueye', 'region': 'Alola', 'types': [{'name': 'Ghost'}, {'name': 'Water'}]}\n",
      "{'name': 'Incineroar', 'region': 'Alola', 'types': [{'name': 'Dark'}, {'name': 'Fire'}]}\n",
      "Page: 5\n",
      "{'name': 'Primarina', 'region': 'Alola', 'types': [{'name': 'Water'}, {'name': 'Fairy'}]}\n",
      "{'name': 'Rillaboom', 'region': 'Galar', 'types': [{'name': 'Grass'}]}\n",
      "{'name': 'Cinderace', 'region': 'Galar', 'types': [{'name': 'Fire'}]}\n",
      "{'name': 'Inteleon', 'region': 'Galar', 'types': [{'name': 'Water'}]}\n"
     ]
    }
   ],
   "source": [
    "with driver.session(database=\"neo4j\") as session:\n",
    "    skip = 0\n",
    "    limit = 5\n",
    "    cnt = 1\n",
    "    while(True):\n",
    "        \n",
    "        results = session.read_transaction(\n",
    "            lambda tx: tx.run('''\n",
    "                MATCH (p)-[:IS_FROM]->(r)\n",
    "                MATCH (p)-[:IS_TYPE]->(t)\n",
    "                return p.name as name, r.name as region, collect(t) as types\n",
    "                SKIP $skip LIMIT $limit\n",
    "                ''', skip=skip, limit=limit).data())\n",
    "        \n",
    "        if(results):\n",
    "            print(f\"Page: {cnt}\")\n",
    "            for record in results:\n",
    "                print(record)\n",
    "                \n",
    "            skip = skip + limit\n",
    "            cnt = cnt + 1\n",
    "        else: break\n",
    "\n",
    "driver.close()"
   ]
  },
  {
   "cell_type": "code",
   "execution_count": null,
   "id": "90a62282-d18b-472e-821d-7fe70003afaa",
   "metadata": {},
   "outputs": [],
   "source": []
  }
 ],
 "metadata": {
  "kernelspec": {
   "display_name": "Python 3 (ipykernel)",
   "language": "python",
   "name": "python3"
  },
  "language_info": {
   "codemirror_mode": {
    "name": "ipython",
    "version": 3
   },
   "file_extension": ".py",
   "mimetype": "text/x-python",
   "name": "python",
   "nbconvert_exporter": "python",
   "pygments_lexer": "ipython3",
   "version": "3.9.6"
  }
 },
 "nbformat": 4,
 "nbformat_minor": 5
}
